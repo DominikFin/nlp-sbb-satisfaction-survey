{
 "cells": [
  {
   "cell_type": "markdown",
   "id": "2ba6354d",
   "metadata": {},
   "source": [
    "# Azure Update to Local File"
   ]
  },
  {
   "cell_type": "markdown",
   "id": "3e7594b6",
   "metadata": {},
   "source": [
    "The script loads the latest data in the Azure kuzu DB and writes it to a local file (\"feather file\"). There is no trasformation, filtering or cleaning of the data.£"
   ]
  },
  {
   "cell_type": "code",
   "execution_count": 25,
   "id": "6d6e46e7",
   "metadata": {},
   "outputs": [],
   "source": [
    "import pyodbc\n",
    "import pandas as pd\n",
    "import os\n",
    "from dotenv import load_dotenv\n",
    "import pickle\n",
    "import pyarrow"
   ]
  },
  {
   "cell_type": "code",
   "execution_count": 14,
   "id": "64ff3b45",
   "metadata": {},
   "outputs": [
    {
     "data": {
      "text/plain": [
       "True"
      ]
     },
     "execution_count": 14,
     "metadata": {},
     "output_type": "execute_result"
    }
   ],
   "source": [
    "## Load .env file\n",
    "load_dotenv('../config/.env')"
   ]
  },
  {
   "cell_type": "markdown",
   "id": "595ae4bf",
   "metadata": {},
   "source": [
    "## Load data from Azure DB"
   ]
  },
  {
   "cell_type": "code",
   "execution_count": 15,
   "id": "464e9293",
   "metadata": {},
   "outputs": [],
   "source": [
    "## Import credentials for kuzu Azure DB from .env file\n",
    "SERVER_AZURE = os.environ.get('SERVER_AZURE', \"default\")  \n",
    "DATABASE_AZURE = os.environ.get('DATABASE_AZURE', \"default\")\n",
    "USERNAME_AZURE = os.environ.get('USERNAME_AZURE', \"default\")\n",
    "PASSWORD_AZURE = os.environ.get('PASSWORD_AZURE', \"default\")\n",
    "DRIVER_AZURE = os.environ.get('DRIVER_AZURE', \"default\")"
   ]
  },
  {
   "cell_type": "code",
   "execution_count": 16,
   "id": "0f68dae6",
   "metadata": {},
   "outputs": [],
   "source": [
    "cnxn = pyodbc.connect('DRIVER='+DRIVER_AZURE+';SERVER='+SERVER_AZURE+';DATABASE='+DATABASE_AZURE+';UID='+USERNAME_AZURE+';PWD='+ PASSWORD_AZURE)\n",
    "cursor = cnxn.cursor()"
   ]
  },
  {
   "cell_type": "code",
   "execution_count": 17,
   "id": "442f36bc",
   "metadata": {},
   "outputs": [
    {
     "name": "stdout",
     "output_type": "stream",
     "text": [
      "['Antwort', 'Bahnhof', 'BahnhofUnique', 'BahnhofZuBahnhofUnique', 'Frage', 'Frageversion', 'FrageZuGruppe', 'Gruppe', 'Ortsgewicht', 'Ortskonzept', 'Region', 'Teilnehmer', 'Umfrage', 'WegPunkt', 'WegStrecke', 'trace_xe_action_map', 'trace_xe_event_map']\n"
     ]
    }
   ],
   "source": [
    "#Sample select query\n",
    "table_names = [x[2] for x in cursor.tables(tableType='TABLE')]\n",
    "print(table_names)"
   ]
  },
  {
   "cell_type": "markdown",
   "id": "f05eb83b",
   "metadata": {},
   "source": [
    "### Select relevant data to export"
   ]
  },
  {
   "cell_type": "code",
   "execution_count": 18,
   "id": "2251cffc",
   "metadata": {},
   "outputs": [],
   "source": [
    "## Define relevant survey\n",
    "UmfrageName = 'kuzu_zug'"
   ]
  },
  {
   "cell_type": "code",
   "execution_count": 19,
   "id": "5254b4cd",
   "metadata": {},
   "outputs": [],
   "source": [
    "q = f\"\"\"SELECT FrageCode FROM Frage WHERE UmfrageName LIKE '{UmfrageName}';\"\"\" # We want all FrageCodes here\n",
    "cols =  pd.read_sql(q, con=cnxn)\n",
    "col_list =  cols.FrageCode.values.tolist()\n",
    "\n",
    "## Add manual cols of interest\n",
    "col_list.insert(0, \"file_name\")\n",
    "col_list.insert(0, \"UmfrageName\")\n",
    "col_list.insert(0, \"participant\")\n",
    "col_list.insert(0, \"time\")"
   ]
  },
  {
   "cell_type": "code",
   "execution_count": 20,
   "id": "c448ed0c",
   "metadata": {},
   "outputs": [],
   "source": [
    "cols = ', '.join(col_list)"
   ]
  },
  {
   "cell_type": "code",
   "execution_count": 21,
   "id": "3b707246",
   "metadata": {},
   "outputs": [],
   "source": [
    "## Bild SQL query\n",
    "query = f\"\"\"SELECT {cols} FROM Teilnehmer WHERE UmfrageName LIKE '{UmfrageName}';\"\"\""
   ]
  },
  {
   "cell_type": "code",
   "execution_count": 22,
   "id": "7746fbcf",
   "metadata": {},
   "outputs": [],
   "source": [
    "## Load data\n",
    "kuzu_zug =  pd.read_sql(query , con=cnxn)"
   ]
  },
  {
   "cell_type": "markdown",
   "id": "4f2da006",
   "metadata": {},
   "source": [
    "### Write dataframe to file"
   ]
  },
  {
   "cell_type": "code",
   "execution_count": 24,
   "id": "97cd9be3",
   "metadata": {},
   "outputs": [],
   "source": [
    "kuzu_zug.to_feather(\"../data/Data_Raw_Kuzu_Zug\") # store data in feather file"
   ]
  }
 ],
 "metadata": {
  "kernelspec": {
   "display_name": "Python 3 (ipykernel)",
   "language": "python",
   "name": "python3"
  },
  "language_info": {
   "codemirror_mode": {
    "name": "ipython",
    "version": 3
   },
   "file_extension": ".py",
   "mimetype": "text/x-python",
   "name": "python",
   "nbconvert_exporter": "python",
   "pygments_lexer": "ipython3",
   "version": "3.9.12"
  },
  "toc": {
   "base_numbering": 1,
   "nav_menu": {},
   "number_sections": true,
   "sideBar": true,
   "skip_h1_title": false,
   "title_cell": "Table of Contents",
   "title_sidebar": "Contents",
   "toc_cell": false,
   "toc_position": {},
   "toc_section_display": true,
   "toc_window_display": false
  }
 },
 "nbformat": 4,
 "nbformat_minor": 5
}
