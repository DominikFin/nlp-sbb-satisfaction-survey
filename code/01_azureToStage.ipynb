{
 "cells": [
  {
   "cell_type": "markdown",
   "id": "2ba6354d",
   "metadata": {},
   "source": [
    "# ETL - Azure to Stage"
   ]
  },
  {
   "cell_type": "markdown",
   "id": "3e7594b6",
   "metadata": {},
   "source": [
    "Mit dem script werden die aktuellsten Daten in der Azure kuzu DB geladen und in eine locale Datenbank geschrieben.Es findet noch keine Trasformation oder filterung der Daten statt."
   ]
  },
  {
   "cell_type": "code",
   "execution_count": 22,
   "id": "6d6e46e7",
   "metadata": {},
   "outputs": [],
   "source": [
    "import pyodbc\n",
    "import pandas as pd\n",
    "from sqlalchemy import create_engine, text, inspect, types\n",
    "from sqlalchemy_utils import database_exists, create_database\n",
    "import sqlalchemy\n",
    "import os\n",
    "from dotenv import load_dotenv"
   ]
  },
  {
   "cell_type": "code",
   "execution_count": 3,
   "id": "64ff3b45",
   "metadata": {},
   "outputs": [
    {
     "data": {
      "text/plain": [
       "True"
      ]
     },
     "execution_count": 3,
     "metadata": {},
     "output_type": "execute_result"
    }
   ],
   "source": [
    "## Load .env file\n",
    "load_dotenv('../config/.env')"
   ]
  },
  {
   "cell_type": "markdown",
   "id": "595ae4bf",
   "metadata": {},
   "source": [
    "## Load data from Azure DB"
   ]
  },
  {
   "cell_type": "code",
   "execution_count": 4,
   "id": "464e9293",
   "metadata": {},
   "outputs": [],
   "source": [
    "## Import credentials for kuzu Azure DB from .env file\n",
    "SERVER_AZURE = os.environ.get('SERVER_AZURE', \"default\")  \n",
    "DATABASE_AZURE = os.environ.get('DATABASE_AZURE', \"default\")\n",
    "USERNAME_AZURE = os.environ.get('USERNAME_AZURE', \"default\")\n",
    "PASSWORD_AZURE = os.environ.get('PASSWORD_AZURE', \"default\")\n",
    "DRIVER_AZURE = os.environ.get('DRIVER_AZURE', \"default\")"
   ]
  },
  {
   "cell_type": "code",
   "execution_count": 5,
   "id": "0f68dae6",
   "metadata": {},
   "outputs": [],
   "source": [
    "cnxn = pyodbc.connect('DRIVER='+DRIVER_AZURE+';SERVER='+SERVER_AZURE+';DATABASE='+DATABASE_AZURE+';UID='+USERNAME_AZURE+';PWD='+ PASSWORD_AZURE)\n",
    "cursor = cnxn.cursor()"
   ]
  },
  {
   "cell_type": "code",
   "execution_count": 6,
   "id": "442f36bc",
   "metadata": {},
   "outputs": [
    {
     "name": "stdout",
     "output_type": "stream",
     "text": [
      "['Antwort', 'Bahnhof', 'BahnhofUnique', 'BahnhofZuBahnhofUnique', 'Frage', 'Frageversion', 'FrageZuGruppe', 'Gruppe', 'Ortsgewicht', 'Ortskonzept', 'Region', 'Teilnehmer', 'Umfrage', 'WegPunkt', 'WegStrecke', 'trace_xe_action_map', 'trace_xe_event_map']\n"
     ]
    }
   ],
   "source": [
    "#Sample select query\n",
    "table_names = [x[2] for x in cursor.tables(tableType='TABLE')]\n",
    "print(table_names)"
   ]
  },
  {
   "cell_type": "markdown",
   "id": "72f2bb41",
   "metadata": {},
   "source": [
    "### Get each table from Azure DB"
   ]
  },
  {
   "cell_type": "code",
   "execution_count": 7,
   "id": "d175af2f",
   "metadata": {},
   "outputs": [],
   "source": [
    "#Bahnhof = pd.read_sql(\"SELECT * FROM Bahnhof\",cnxn)\n",
    "#BahnhofUnique = pd.read_sql(\"SELECT * FROM BahnhofUnique\",cnxn)\n",
    "#BahnhofZuBahnhofUnique = pd.read_sql(\"SELECT * FROM BahnhofZuBahnhofUnique\",cnxn)\n",
    "Frage = pd.read_sql(\"SELECT * FROM Frage\",cnxn)\n",
    "Frageversion = pd.read_sql(\"SELECT * FROM Frageversion\",cnxn)\n",
    "FrageZuGruppe = pd.read_sql(\"SELECT * FROM FrageZuGruppe\",cnxn)\n",
    "Gruppe = pd.read_sql(\"SELECT * FROM Gruppe\",cnxn)\n",
    "#Ortsgewicht = pd.read_sql(\"SELECT * FROM Ortsgewicht\",cnxn)\n",
    "#Ortskonzept = pd.read_sql(\"SELECT * FROM Ortskonzept\",cnxn)\n",
    "#Region = pd.read_sql(\"SELECT * FROM Region\",cnxn)\n",
    "#Umfrage = pd.read_sql(\"SELECT * FROM Umfrage\",cnxn)\n",
    "#Wegpunkt = pd.read_sql(\"SELECT * FROM WegPunkt\",cnxn)\n",
    "#WegStrecke = pd.read_sql(\"SELECT * FROM WegStrecke\",cnxn)"
   ]
  },
  {
   "cell_type": "markdown",
   "id": "f05eb83b",
   "metadata": {},
   "source": [
    "### Select relevant data to export"
   ]
  },
  {
   "cell_type": "markdown",
   "id": "4b727e12",
   "metadata": {},
   "source": [
    "#### Kuzu Digital"
   ]
  },
  {
   "cell_type": "code",
   "execution_count": 20,
   "id": "bc25bb29",
   "metadata": {},
   "outputs": [],
   "source": [
    "#UmfrageName = 'kuzu_digital'"
   ]
  },
  {
   "cell_type": "code",
   "execution_count": 21,
   "id": "0f670745",
   "metadata": {},
   "outputs": [],
   "source": [
    "#q = f\"\"\"SELECT FrageCode FROM Frage WHERE UmfrageName LIKE '{UmfrageName}';\"\"\" # We want all FrageCodes here\n",
    "#cols =  pd.read_sql(q, con=cnxn)\n",
    "#col_list =  cols.FrageCode.values.tolist()\n",
    "## add manual cols of interest\n",
    "#col_list.insert(0, \"file_name\")\n",
    "#col_list.insert(0, \"UmfrageName\")\n",
    "#col_list.insert(0, \"participant\")\n",
    "#col_list.insert(0, \"time\")"
   ]
  },
  {
   "cell_type": "code",
   "execution_count": 22,
   "id": "d3ebb51c",
   "metadata": {},
   "outputs": [],
   "source": [
    "#cols = ', '.join(col_list)"
   ]
  },
  {
   "cell_type": "code",
   "execution_count": 23,
   "id": "0089a397",
   "metadata": {},
   "outputs": [],
   "source": [
    "#query = f\"\"\"SELECT {cols} FROM Teilnehmer WHERE UmfrageName LIKE '{UmfrageName}';\"\"\""
   ]
  },
  {
   "cell_type": "code",
   "execution_count": 24,
   "id": "85fd081b",
   "metadata": {},
   "outputs": [],
   "source": [
    "#kuzu_digital =  pd.read_sql(query , con=cnxn)"
   ]
  },
  {
   "cell_type": "markdown",
   "id": "b9c78446",
   "metadata": {},
   "source": [
    "#### Kuzu Zug"
   ]
  },
  {
   "cell_type": "code",
   "execution_count": 8,
   "id": "2251cffc",
   "metadata": {},
   "outputs": [],
   "source": [
    "UmfrageName = 'kuzu_zug'"
   ]
  },
  {
   "cell_type": "code",
   "execution_count": 9,
   "id": "5254b4cd",
   "metadata": {},
   "outputs": [],
   "source": [
    "q = f\"\"\"SELECT FrageCode FROM Frage WHERE UmfrageName LIKE '{UmfrageName}';\"\"\" # We want all FrageCodes here\n",
    "cols =  pd.read_sql(q, con=cnxn)\n",
    "col_list =  cols.FrageCode.values.tolist()\n",
    "# add manual cols of interest\n",
    "col_list.insert(0, \"file_name\")\n",
    "col_list.insert(0, \"UmfrageName\")\n",
    "col_list.insert(0, \"participant\")\n",
    "col_list.insert(0, \"time\")"
   ]
  },
  {
   "cell_type": "code",
   "execution_count": 10,
   "id": "c448ed0c",
   "metadata": {},
   "outputs": [],
   "source": [
    "cols = ', '.join(col_list)"
   ]
  },
  {
   "cell_type": "code",
   "execution_count": 11,
   "id": "3b707246",
   "metadata": {},
   "outputs": [],
   "source": [
    "query = f\"\"\"SELECT {cols} FROM Teilnehmer WHERE UmfrageName LIKE '{UmfrageName}';\"\"\""
   ]
  },
  {
   "cell_type": "code",
   "execution_count": 12,
   "id": "7746fbcf",
   "metadata": {},
   "outputs": [],
   "source": [
    "kuzu_zug =  pd.read_sql(query , con=cnxn)"
   ]
  },
  {
   "cell_type": "markdown",
   "id": "5f0c5518",
   "metadata": {},
   "source": [
    "#### Kuzu Bahnhof"
   ]
  },
  {
   "cell_type": "code",
   "execution_count": 48,
   "id": "61325f57",
   "metadata": {},
   "outputs": [],
   "source": [
    "#UmfrageName = 'kuzu_bahnhof'"
   ]
  },
  {
   "cell_type": "code",
   "execution_count": 49,
   "id": "2c3c8873",
   "metadata": {},
   "outputs": [],
   "source": [
    "#q = f\"\"\"SELECT FrageCode FROM Frage WHERE UmfrageName LIKE '{UmfrageName}';\"\"\" # We want all FrageCodes here\n",
    "#cols =  pd.read_sql(q, con=cnxn)\n",
    "#col_list =  cols.FrageCode.values.tolist()\n",
    "## add manual cols of interest\n",
    "#col_list.insert(0, \"file_name\")\n",
    "#col_list.insert(0, \"UmfrageName\")\n",
    "#col_list.insert(0, \"participant\")\n",
    "#col_list.insert(0, \"time\")"
   ]
  },
  {
   "cell_type": "code",
   "execution_count": 50,
   "id": "364accdc",
   "metadata": {},
   "outputs": [],
   "source": [
    "#cols = ', '.join(col_list)"
   ]
  },
  {
   "cell_type": "code",
   "execution_count": 51,
   "id": "229af5b1",
   "metadata": {},
   "outputs": [],
   "source": [
    "#query = f\"\"\"SELECT {cols} FROM Teilnehmer WHERE UmfrageName LIKE '{UmfrageName}';\"\"\""
   ]
  },
  {
   "cell_type": "code",
   "execution_count": 52,
   "id": "703edb21",
   "metadata": {},
   "outputs": [],
   "source": [
    "#kuzu_bahnhof =  pd.read_sql(query , con=cnxn)"
   ]
  },
  {
   "cell_type": "markdown",
   "id": "91f3d85b",
   "metadata": {},
   "source": [
    "## Write date into local database"
   ]
  },
  {
   "cell_type": "code",
   "execution_count": 23,
   "id": "35237a9d",
   "metadata": {},
   "outputs": [],
   "source": [
    "## Import credentials for local DB from .env file\n",
    "USERNAME_LOCAL = os.environ.get('USERNAME_LOCAL', \"default\")  \n",
    "PASSWORD_LOCAL = os.environ.get('PASSWORD_LOCAL', \"default\")\n",
    "ENDPOINT_LOCAL = os.environ.get('ENDPOINT_LOCAL', \"default\")\n",
    "DATABASE_LOCAL = os.environ.get('DATABASE_LOCAL', \"default\")"
   ]
  },
  {
   "cell_type": "code",
   "execution_count": 24,
   "id": "d5947538",
   "metadata": {},
   "outputs": [],
   "source": [
    "# Create Database on local machine\n",
    "conn_string = f'postgresql://{USERNAME_LOCAL}:{PASSWORD_LOCAL}@{ENDPOINT_LOCAL}/{DATABASE_LOCAL}'\n",
    "dbEngine = sqlalchemy.create_engine(conn_string, connect_args={'connect_timeout': 10}, echo=False)"
   ]
  },
  {
   "cell_type": "code",
   "execution_count": 25,
   "id": "6f1ad934",
   "metadata": {},
   "outputs": [
    {
     "name": "stdout",
     "output_type": "stream",
     "text": [
      "engine is valid\n"
     ]
    }
   ],
   "source": [
    "try:\n",
    "    with dbEngine.connect() as con:\n",
    "        con.execute(\"SELECT 1\")\n",
    "    print('engine is valid')\n",
    "except Exception as e:\n",
    "    print(f'Engine invalid: {str(e)}')"
   ]
  },
  {
   "cell_type": "markdown",
   "id": "4f2da006",
   "metadata": {},
   "source": [
    "### Write each table in local database"
   ]
  },
  {
   "cell_type": "code",
   "execution_count": 26,
   "id": "88b4606d",
   "metadata": {},
   "outputs": [],
   "source": [
    "def sqlinsert(df,tablename,db_engine,chunksize):\n",
    "    df.to_sql(tablename,\n",
    "              dbEngine,\n",
    "              if_exists='replace',\n",
    "              index=False,\n",
    "              method='multi',\n",
    "              chunksize=chunksize)"
   ]
  },
  {
   "cell_type": "code",
   "execution_count": 27,
   "id": "c65b1c29",
   "metadata": {},
   "outputs": [],
   "source": [
    "sqlinsert(df = kuzu_zug, tablename='kuzu_zug', db_engine=dbEngine, chunksize=1000)\n",
    "sqlinsert(df = Frage, tablename='Frage', db_engine=dbEngine, chunksize=5000)\n",
    "sqlinsert(df = Frageversion, tablename='Frageversion', db_engine=dbEngine, chunksize=5000)\n",
    "sqlinsert(df = FrageZuGruppe, tablename='FrageZuGruppe', db_engine=dbEngine, chunksize=5000)\n",
    "sqlinsert(df = Gruppe, tablename='Gruppe', db_engine=dbEngine, chunksize=5000)"
   ]
  }
 ],
 "metadata": {
  "kernelspec": {
   "display_name": "Python 3 (ipykernel)",
   "language": "python",
   "name": "python3"
  },
  "language_info": {
   "codemirror_mode": {
    "name": "ipython",
    "version": 3
   },
   "file_extension": ".py",
   "mimetype": "text/x-python",
   "name": "python",
   "nbconvert_exporter": "python",
   "pygments_lexer": "ipython3",
   "version": "3.9.12"
  },
  "toc": {
   "base_numbering": 1,
   "nav_menu": {},
   "number_sections": true,
   "sideBar": true,
   "skip_h1_title": false,
   "title_cell": "Table of Contents",
   "title_sidebar": "Contents",
   "toc_cell": false,
   "toc_position": {},
   "toc_section_display": true,
   "toc_window_display": false
  }
 },
 "nbformat": 4,
 "nbformat_minor": 5
}
