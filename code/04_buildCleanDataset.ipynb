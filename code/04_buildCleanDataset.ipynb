{
 "cells": [
  {
   "cell_type": "markdown",
   "id": "2ba6354d",
   "metadata": {},
   "source": [
    "# Build clean dataset"
   ]
  },
  {
   "cell_type": "markdown",
   "id": "3e7594b6",
   "metadata": {},
   "source": [
    "Based on the previously performed EDA, we reduce our data to a common cleaned data set. This data set is then the basis for all further steps. To do this, the 4 individual data frames previously created for the EDA are loaded, merged, reduced to relevant columns and cleaned. The final data frame is again stored in the data folder."
   ]
  },
  {
   "cell_type": "code",
   "execution_count": 41,
   "id": "6d6e46e7",
   "metadata": {},
   "outputs": [],
   "source": [
    "import pandas as pd\n",
    "import os\n",
    "import numpy as np\n",
    "import datetime\n",
    "import decimal"
   ]
  },
  {
   "cell_type": "markdown",
   "id": "51c8a06e",
   "metadata": {},
   "source": [
    "## Load Data"
   ]
  },
  {
   "cell_type": "code",
   "execution_count": 42,
   "id": "b227b414",
   "metadata": {},
   "outputs": [],
   "source": [
    "df_satisfaction = pd.read_feather(\"../data/Data_Satisfaction\")\n",
    "df_meta = pd.read_feather(\"../data/Data_Metadata\")\n",
    "df_text = pd.read_feather(\"../data/Data_Unlabeled\")\n",
    "df_text_labeled = pd.read_feather(\"../data/Data_Labeled\")"
   ]
  },
  {
   "cell_type": "markdown",
   "id": "ef8c750f",
   "metadata": {},
   "source": [
    "## Tranform and clean data"
   ]
  },
  {
   "cell_type": "markdown",
   "id": "23067f04",
   "metadata": {},
   "source": [
    "### Transform"
   ]
  },
  {
   "cell_type": "code",
   "execution_count": 43,
   "id": "32a0e755",
   "metadata": {},
   "outputs": [],
   "source": [
    "df_satisfaction_min = df_satisfaction[df_satisfaction.FrageCode == 'wime_gesamtzuf'] #only keep overall satisfaction\n",
    "df_satisfaction_min = df_satisfaction_min.drop(['FrageCode'], axis=1)\n",
    "df_satisfaction_min = df_satisfaction_min.rename(columns={\"Value\": \"wime_gesamtzuf\"})\n",
    "\n",
    "df_temp = df_text.merge(df_satisfaction_min, left_on='ParticipantId', right_on='ParticipantId',how='left')\n",
    "df_full = df_temp.merge(df_meta, left_on='ParticipantId', right_on='ParticipantId',how='left')\n",
    "\n",
    "df_full = df_full.drop(['Date_x'], axis=1)\n",
    "df_full = df_full.drop(['Date_y'], axis=1)\n",
    "\n",
    "# reorder colnames for export\n",
    "new_cols = ['ParticipantId',\n",
    "            'Date',\n",
    "            'Value',\n",
    "            'Language',\n",
    "            'wime_gesamtzuf',\n",
    "            'S_sex',\n",
    "            'S_alter',\n",
    "            'u_bezugsart',\n",
    "            'u_fahrausweis',\n",
    "            'u_ga',\n",
    "            'u_klassencode',\n",
    "            'u_preis',\n",
    "            'u_ticket',\n",
    "            'device_type',\n",
    "            'dispcode',\n",
    "            'fg_startort',\n",
    "            'fg_abfahrt',\n",
    "            'ft_startort',\n",
    "            'ft_abfahrt',\n",
    "            'ft_zielort',\n",
    "            'ft_ankunft',\n",
    "            'fg_zielort',\n",
    "            'fg_ankunft',\n",
    "            'ft_haltestellen',\n",
    "            'ft_vm_kurz',\n",
    "            'R_anschluss',\n",
    "            'R_stoerung',\n",
    "            'R_zweck',\n",
    "            'S_berufstaetigkeit',\n",
    "            'S_wohnsitz',\n",
    "            'S_Usertyp1',\n",
    "            'S_Usertyp2',\n",
    "            'S_Usertyp3'\n",
    "           ]\n",
    "\n",
    "df_full = df_full[new_cols]\n",
    "\n",
    "\n",
    "#Replace it with None values which can be interpreted by pandas\n",
    "dates = ['Date','fg_abfahrt','ft_abfahrt','ft_ankunft','fg_ankunft']\n",
    "\n",
    "for x in dates:\n",
    "    df_full[[x]] = df_full[[x]].astype(object).where(df_full[[x]].notnull(), None)"
   ]
  },
  {
   "cell_type": "markdown",
   "id": "23f6063a",
   "metadata": {},
   "source": [
    "### Cleaning"
   ]
  },
  {
   "cell_type": "code",
   "execution_count": 44,
   "id": "b7d13a0e",
   "metadata": {},
   "outputs": [],
   "source": [
    "## Col specific cleaning - Fahrzweck\n",
    "\n",
    "df_full.R_zweck = df_full.R_zweck.replace('Freizeitfahrt  ohne Übernachtung (Ausflug, Kino, Sport, Besuch, usw.)','Freizeitfahrt / Ferienreise oder alltägliche Erledigungen')\n",
    "df_full.R_zweck = df_full.R_zweck.replace('Freizeitfahrt/ private Ferienreise/ alltägliche Erledigungen (z.B. Arztbesuch, Einkaufen, jmd. Abhol','Freizeitfahrt / Ferienreise oder alltägliche Erledigungen')\n",
    "df_full.R_zweck = df_full.R_zweck.replace('Freizeitfahrt/ private Ferienreise\\r\\n','Freizeitfahrt / Ferienreise oder alltägliche Erledigungen')\n",
    "df_full.R_zweck = df_full.R_zweck.replace('Alltägliche Erledigungen (z.B. Arztbesuch, Einkaufen, jmd. abholen)','Freizeitfahrt / Ferienreise oder alltägliche Erledigungen')\n",
    "df_full.R_zweck = df_full.R_zweck.replace('Private Ferienreise (Reise mit mind. 1 Übernachtung)','Freizeitfahrt / Ferienreise oder alltägliche Erledigungen')\n",
    "df_full.R_zweck = df_full.R_zweck.replace('alltägliche Erledigungen (z.B. Arztbesuch, Einkaufen, jmd. Abholen)\\r\\n','Freizeitfahrt / Ferienreise oder alltägliche Erledigungen')\n",
    "df_full.R_zweck = df_full.R_zweck.replace('Fahrt zum Arbeitsort / Ausbildungsort','Pendeln')\n",
    "df_full.R_zweck = df_full.R_zweck.replace('Fahrt zum Arbeitsort','Pendeln')\n",
    "df_full.R_zweck = df_full.R_zweck.replace('Fahrt zum Ausbildungsort','Pendeln')\n",
    "df_full.R_zweck = df_full.R_zweck.replace('Fahrt vom oder zum Arbeits-/ Ausbildungsort','Pendeln')\n",
    "\n",
    "## Col specific cleaning - U_Bezugsart\n",
    "df_full.u_bezugsart = df_full.u_bezugsart.replace('MobileTicket','Mobile Ticket')\n",
    "\n",
    "## Col specific cleaning - U_Ticket\n",
    "df_full.u_ticket = df_full.u_ticket.replace('3', np.nan)\n",
    "\n",
    "## Col Language\n",
    "df_full = df_full[df_full[\"Language\"]==\"Deutsch\"].reset_index(drop=True) #Only keep german surveys"
   ]
  },
  {
   "cell_type": "markdown",
   "id": "05e51e14",
   "metadata": {},
   "source": [
    "### Write dataframe to file"
   ]
  },
  {
   "cell_type": "code",
   "execution_count": 45,
   "id": "a168467a",
   "metadata": {},
   "outputs": [],
   "source": [
    "df_full.to_feather(\"../data/Data_Clean\")"
   ]
  }
 ],
 "metadata": {
  "kernelspec": {
   "display_name": "Python 3 (ipykernel)",
   "language": "python",
   "name": "python3"
  },
  "language_info": {
   "codemirror_mode": {
    "name": "ipython",
    "version": 3
   },
   "file_extension": ".py",
   "mimetype": "text/x-python",
   "name": "python",
   "nbconvert_exporter": "python",
   "pygments_lexer": "ipython3",
   "version": "3.9.12"
  },
  "toc": {
   "base_numbering": 1,
   "nav_menu": {},
   "number_sections": true,
   "sideBar": true,
   "skip_h1_title": false,
   "title_cell": "Table of Contents",
   "title_sidebar": "Contents",
   "toc_cell": false,
   "toc_position": {},
   "toc_section_display": true,
   "toc_window_display": true
  }
 },
 "nbformat": 4,
 "nbformat_minor": 5
}
