{
 "cells": [
  {
   "cell_type": "markdown",
   "id": "2ba6354d",
   "metadata": {},
   "source": [
    "# Prepare datasets for EDA"
   ]
  },
  {
   "cell_type": "markdown",
   "id": "3e7594b6",
   "metadata": {},
   "source": [
    "This script creates 4 separate dataframes from the raw data which are then analyzed in the EDA. "
   ]
  },
  {
   "cell_type": "code",
   "execution_count": 3,
   "id": "6d6e46e7",
   "metadata": {},
   "outputs": [],
   "source": [
    "import pandas as pd\n",
    "import os\n",
    "import numpy as np\n",
    "import datetime \n",
    "import decimal"
   ]
  },
  {
   "cell_type": "markdown",
   "id": "51c8a06e",
   "metadata": {},
   "source": [
    "## Load Raw Data"
   ]
  },
  {
   "cell_type": "code",
   "execution_count": 11,
   "id": "b227b414",
   "metadata": {},
   "outputs": [],
   "source": [
    "## load full dataset\n",
    "df_kuzu_zug_raw = pd.read_feather('../data/Data_Raw_Kuzu_Zug')\n",
    "#list(df_kuzu_zug_raw.columns)"
   ]
  },
  {
   "cell_type": "markdown",
   "id": "ef8c750f",
   "metadata": {},
   "source": [
    "## Tranform Data"
   ]
  },
  {
   "cell_type": "markdown",
   "id": "e4a4da9e",
   "metadata": {},
   "source": [
    "#### Kommentar without Label"
   ]
  },
  {
   "cell_type": "code",
   "execution_count": 12,
   "id": "396edc67",
   "metadata": {},
   "outputs": [],
   "source": [
    "df_text = df_kuzu_zug_raw[[\"participant\",\n",
    "                           \"u_date\",\n",
    "                           \"Kommentar\",\n",
    "                           \"S_sprache\"]]\n",
    "\n",
    "df_text = df_text[df_text[\"Kommentar\"]!=\"-66\"]\n",
    "df_text = df_text[df_text[\"S_sprache\"]!=\"0\"]\n",
    "df_text = df_text[df_text.Kommentar.notnull()]\n",
    "df_text = df_text[df_text.u_date.notnull()]\n",
    "df_text = df_text[df_text.Kommentar.apply(lambda x: len(str(x))>=4)] # min 4 characters for valid comment\n",
    "df_text[\"u_date\"] = pd.to_datetime(df_text[\"u_date\"])\n",
    "df_text.sort_values(by='u_date', inplace=True)\n",
    "\n",
    "# col Naming and order\n",
    "df_text.rename(columns = {'participant':'ParticipantId','Kommentar':'Value','S_sprache':'Language','u_date':'Date'}, inplace = True)\n",
    "\n",
    "## Reset Index \n",
    "df_text = df_text.reset_index(drop=True)\n"
   ]
  },
  {
   "cell_type": "markdown",
   "id": "6281551b",
   "metadata": {},
   "source": [
    "#### Kommentare with Label"
   ]
  },
  {
   "cell_type": "code",
   "execution_count": 13,
   "id": "add31a8b",
   "metadata": {},
   "outputs": [],
   "source": [
    "# load config file and create mask for filtering\n",
    "labeled_kuzu_zug = pd.read_excel(open('../config/config.xlsx', 'rb'),sheet_name='Fragecodes')\n",
    "labeled_kuzu_zug =list(labeled_kuzu_zug.loc[(labeled_kuzu_zug['UmfrageName']=='kuzu_zug') & (labeled_kuzu_zug['FrageType']== 'text_labeled')].reset_index()['FrageCode']) #select all codes of satisfaction questions\n",
    "labeled_kuzu_zug.insert(0, \"participant\") #add participant for mapping\n",
    "\n",
    "# filter df\n",
    "df_text_labeled = df_kuzu_zug_raw[labeled_kuzu_zug]\n",
    "\n",
    "# transform to long\n",
    "df_text_labeled = pd.melt(df_text_labeled.reset_index(), id_vars='participant',value_vars=labeled_kuzu_zug, var_name='FrageCode', value_name='Value').reset_index(drop=True)\n",
    "\n",
    "\n",
    "# join Date and Language\n",
    "df_text_labeled = pd.merge(df_text_labeled, df_kuzu_zug_raw[['u_date','participant','S_sprache']],\n",
    "                           left_on=  ['participant'],\n",
    "                           right_on= ['participant'],\n",
    "                           how = 'left')\n",
    "# cleaining\n",
    "df_text_labeled = df_text_labeled[df_text_labeled[\"Value\"]!=\"-66\"]\n",
    "df_text_labeled = df_text_labeled[df_text_labeled.Value.notnull()]\n",
    "df_text_labeled = df_text_labeled[df_text_labeled.Value.apply(lambda x: len(str(x))>=4)] # min 4 characters for valid comment\n",
    "df_text_labeled = df_text_labeled[df_text_labeled[\"S_sprache\"]!=\"0\"]\n",
    "\n",
    "# convert correct datatype\n",
    "df_text_labeled = df_text_labeled[df_text_labeled.u_date.notnull()]\n",
    "df_text_labeled[\"u_date\"] = pd.to_datetime(df_text_labeled[\"u_date\"])\n",
    "\n",
    "# Order cols\n",
    "df_text_labeled = df_text_labeled.reindex(['participant','u_date','FrageCode','Value','S_sprache'], axis=1)\n",
    "\n",
    "# Col renaming\n",
    "df_text_labeled.rename(columns = {'participant':'ParticipantId','u_date':'Date','S_sprache':'Language'}, inplace = True)\n",
    "\n",
    "\n",
    "## Reset Index \n",
    "df_text_labeled = df_text_labeled.reset_index(drop=True)\n"
   ]
  },
  {
   "cell_type": "markdown",
   "id": "8c79041a",
   "metadata": {},
   "source": [
    "#### Satisfaction"
   ]
  },
  {
   "cell_type": "code",
   "execution_count": 14,
   "id": "3b4d52fe",
   "metadata": {},
   "outputs": [],
   "source": [
    "# Load config file and create mask for filtering\n",
    "satisfaction_kuzu_zug = pd.read_excel(open('../config/config.xlsx', 'rb'),sheet_name='Fragecodes')\n",
    "satisfaction_kuzu_zug =list(satisfaction_kuzu_zug.loc[(satisfaction_kuzu_zug['UmfrageName']=='kuzu_zug') & (satisfaction_kuzu_zug['FrageType']== 'satisfaction')].reset_index()['FrageCode']) #select all codes of satisfaction questions\n",
    "satisfaction_kuzu_zug.insert(0, \"participant\") #add participant for mapping\n",
    "\n",
    "# Filter df\n",
    "df_satisfaction = df_kuzu_zug_raw[satisfaction_kuzu_zug]\n",
    "\n",
    "# transform to long\n",
    "df_satisfaction = pd.melt(df_satisfaction.reset_index(), id_vars='participant',value_vars=satisfaction_kuzu_zug, var_name='FrageCode', value_name='Value').reset_index(drop=True)\n",
    "\n",
    "# cleaining\n",
    "df_satisfaction = df_satisfaction [df_satisfaction.Value.isin([str(i) for i in range(1,11)])]\n",
    "\n",
    "# join Date\n",
    "df_satisfaction = pd.merge(df_satisfaction, df_kuzu_zug_raw[['u_date','participant']],\n",
    "                           left_on=  ['participant'],\n",
    "                           right_on= ['participant'],\n",
    "                           how = 'left')\n",
    "\n",
    "# convert correct datatype\n",
    "df_satisfaction = df_satisfaction[df_satisfaction.u_date.notnull()]\n",
    "df_satisfaction[\"u_date\"] = pd.to_datetime(df_satisfaction[\"u_date\"])\n",
    "df_satisfaction.sort_values(by='u_date', inplace=True)\n",
    "df_satisfaction[\"Value\"] = df_satisfaction[\"Value\"].astype(str).astype(int)\n",
    "\n",
    "# Transform from 5 and 10 scaling to 1harmonized 100 scale (10 until 03.2020 and 5 since 5.2020 - april 2020 no data)\n",
    "mask_10 = (df_satisfaction['u_date'] > '2000-1-1') & (df_satisfaction['u_date'] <= '2020-4-30')\n",
    "mask_5 = (df_satisfaction['u_date'] >= '2020-5-1')\n",
    "df_satisfaction_10 = df_satisfaction.loc[mask_10]\n",
    "df_satisfaction_10 = df_satisfaction_10.assign(Value=df_satisfaction_10['Value'].apply(lambda x:(x-1)/9*100))\n",
    "df_satisfaction_5 = df_satisfaction.loc[mask_5]\n",
    "df_satisfaction_5 = df_satisfaction_5.assign(Value=df_satisfaction_5['Value'].apply(lambda x:(x-1)/4*100))\n",
    "df_satisfaction = pd.concat([df_satisfaction_5, df_satisfaction_10])\n",
    "\n",
    "# Order cols\n",
    "df_satisfaction = df_satisfaction.reindex(['participant','u_date','FrageCode','Value'], axis=1)\n",
    "\n",
    "# Col renaming\n",
    "df_satisfaction.rename(columns = {'participant':'ParticipantId','u_date':'Date'}, inplace = True)\n",
    "\n",
    "# Change dtypes and round float\n",
    "df_satisfaction[\"FrageCode\"] = df_satisfaction[\"FrageCode\"].astype('category')\n",
    "df_satisfaction[\"Value\"] = df_satisfaction[\"Value\"].round(3)\n",
    "\n",
    "## Sort df by date\n",
    "df_satisfaction = df_satisfaction.sort_values(\"Date\",ascending=False)\n",
    "\n",
    "## Reset Index \n",
    "df_satisfaction = df_satisfaction.reset_index(drop=True)\n",
    "\n"
   ]
  },
  {
   "cell_type": "markdown",
   "id": "8bf2fbb1",
   "metadata": {},
   "source": [
    "#### Additional Meta data"
   ]
  },
  {
   "cell_type": "code",
   "execution_count": 15,
   "id": "10092170",
   "metadata": {},
   "outputs": [],
   "source": [
    "## Filter df\n",
    "df_meta = df_kuzu_zug_raw[[\"participant\",\n",
    "                           \"u_date\",\n",
    "                           \"S_sex\",\n",
    "                           \"S_alter\",\n",
    "                           \"u_bezugsart\",\n",
    "                           \"u_fahrausweis\",\n",
    "                           \"u_ga\",\n",
    "                           \"u_klassencode\",\n",
    "                           \"u_preis\",\n",
    "                           \"u_ticket\",\n",
    "                           \"device_type\",\n",
    "                           \"dispcode\",\n",
    "                           \"fg_startort\",\n",
    "                           \"fg_abfahrt\",\n",
    "                           \"ft_startort\",\n",
    "                           \"ft_abfahrt\",\n",
    "                           \"ft_zielort\",\n",
    "                           \"ft_ankunft\",\n",
    "                           \"fg_zielort\",\n",
    "                           \"fg_ankunft\",\n",
    "                           \"ft_haltestellen\",\n",
    "                           \"ft_vm_kurz\",\n",
    "                           \"R_anschluss\",\n",
    "                           \"R_stoerung\",\n",
    "                           \"R_zweck\",\n",
    "                           \"S_berufstaetigkeit\",\n",
    "                           \"S_wohnsitz\",\n",
    "                           \"S_Usertyp1\",\n",
    "                           \"S_Usertyp2\",\n",
    "                           \"S_Usertyp3\"\n",
    "                          ]]\n",
    "\n",
    "## convert empty invalid anwers\n",
    "df_meta = df_meta.replace('-66', np.nan)\n",
    "df_meta = df_meta.replace('-99', np.nan)\n",
    "df_meta = df_meta.replace('-77', np.nan)\n",
    "df_meta = df_meta.replace('0', np.nan)\n",
    "df_meta = df_meta.replace('Weiss nicht', np.nan)\n",
    "df_meta = df_meta[df_meta.u_date.notnull()]\n",
    "\n",
    "\n",
    "## convert correct datatype\n",
    "df_meta[\"u_date\"] = pd.to_datetime(df_meta[\"u_date\"])\n",
    "df_meta[\"fg_abfahrt\"] = pd.to_datetime(df_meta[\"fg_abfahrt\"])\n",
    "df_meta[\"ft_abfahrt\"] = pd.to_datetime(df_meta[\"ft_abfahrt\"])\n",
    "df_meta[\"ft_ankunft\"] = pd.to_datetime(df_meta[\"ft_ankunft\"])\n",
    "df_meta[\"fg_ankunft\"] = pd.to_datetime(df_meta[\"fg_ankunft\"])\n",
    "\n",
    "df_meta[\"u_preis\"] = pd.to_numeric(df_meta[\"u_preis\"], downcast='float')\n",
    "df_meta['S_alter'] = pd.to_numeric(df_meta[\"S_alter\"], downcast='float')\n",
    "\n",
    "tocategory = ['S_sex',\n",
    "              'u_bezugsart',\n",
    "              'u_fahrausweis',\n",
    "              'u_ga',\n",
    "              'u_klassencode',\n",
    "              'u_ticket',\n",
    "              \"device_type\",\n",
    "              \"dispcode\",\n",
    "              \"fg_startort\",\n",
    "              \"ft_startort\",\n",
    "              \"ft_zielort\",\n",
    "              \"fg_zielort\",\n",
    "              \"ft_haltestellen\",\n",
    "              \"ft_vm_kurz\",\n",
    "              \"R_anschluss\",\n",
    "              \"R_stoerung\",\n",
    "              \"R_zweck\",\n",
    "              \"S_berufstaetigkeit\",\n",
    "              \"S_wohnsitz\",\n",
    "              \"S_Usertyp1\",\n",
    "              \"S_Usertyp2\",\n",
    "              \"S_Usertyp3\"\n",
    "             ]\n",
    "\n",
    "for item in tocategory:\n",
    "    df_meta[item] = df_meta[item].astype('category')\n",
    "\n",
    "## Col renaming\n",
    "df_meta.rename(columns = {'participant':'ParticipantId','u_date':'Date'}, inplace = True)\n",
    "\n",
    "## Reset Index \n",
    "df_meta = df_meta.reset_index(drop=True)"
   ]
  },
  {
   "cell_type": "markdown",
   "id": "f9f72a03",
   "metadata": {},
   "source": [
    "### Write dataframes to files"
   ]
  },
  {
   "cell_type": "code",
   "execution_count": 16,
   "id": "12b6d9bb",
   "metadata": {},
   "outputs": [],
   "source": [
    "df_satisfaction.to_feather(\"../data/Data_Satisfaction\")\n",
    "df_meta.to_feather(\"../data/Data_Metadata\")\n",
    "df_text.to_feather(\"../data/Data_Unlabeled\")\n",
    "df_text_labeled.to_feather(\"../data/Data_Labeled\")"
   ]
  }
 ],
 "metadata": {
  "kernelspec": {
   "display_name": "Python 3 (ipykernel)",
   "language": "python",
   "name": "python3"
  },
  "language_info": {
   "codemirror_mode": {
    "name": "ipython",
    "version": 3
   },
   "file_extension": ".py",
   "mimetype": "text/x-python",
   "name": "python",
   "nbconvert_exporter": "python",
   "pygments_lexer": "ipython3",
   "version": "3.9.12"
  },
  "toc": {
   "base_numbering": 1,
   "nav_menu": {},
   "number_sections": true,
   "sideBar": true,
   "skip_h1_title": false,
   "title_cell": "Table of Contents",
   "title_sidebar": "Contents",
   "toc_cell": false,
   "toc_position": {},
   "toc_section_display": true,
   "toc_window_display": true
  }
 },
 "nbformat": 4,
 "nbformat_minor": 5
}
